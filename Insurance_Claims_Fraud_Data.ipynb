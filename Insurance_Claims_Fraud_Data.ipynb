{
  "nbformat": 4,
  "nbformat_minor": 0,
  "metadata": {
    "colab": {
      "private_outputs": true,
      "provenance": []
    },
    "kernelspec": {
      "name": "python3",
      "display_name": "Python 3"
    },
    "language_info": {
      "name": "python"
    }
  },
  "cells": [
    {
      "cell_type": "code",
      "execution_count": null,
      "metadata": {
        "id": "eBDvTq5UzJ2Q"
      },
      "outputs": [],
      "source": [
        "import numpy as np\n",
        "import pandas as pd\n",
        "import matplotlib.pyplot as plt\n",
        "import seaborn as sns "
      ]
    },
    {
      "cell_type": "code",
      "source": [
        "from google.colab import drive\n",
        "drive.mount('/content/drive')"
      ],
      "metadata": {
        "id": "4xLTAk4brWFZ"
      },
      "execution_count": null,
      "outputs": []
    },
    {
      "cell_type": "code",
      "source": [
        "insurance=pd.read_csv(\"/content/drive/MyDrive/Dataset/insurance_data.csv\")\n",
        "employee=pd.read_csv(\"/content/drive/MyDrive/Dataset/employee_data.csv\")\n",
        "vendor=pd.read_csv(\"/content/drive/MyDrive/Dataset/vendor_data.csv\")"
      ],
      "metadata": {
        "id": "fPM-42dHzWTB"
      },
      "execution_count": null,
      "outputs": []
    },
    {
      "cell_type": "code",
      "source": [
        "insurance.info()\n"
      ],
      "metadata": {
        "id": "MXMJEMVIz1k_"
      },
      "execution_count": null,
      "outputs": []
    },
    {
      "cell_type": "code",
      "source": [
        "insurance.head()"
      ],
      "metadata": {
        "id": "IIOddB-g1DlA"
      },
      "execution_count": null,
      "outputs": []
    },
    {
      "cell_type": "code",
      "source": [
        "employee.info()\n"
      ],
      "metadata": {
        "id": "oWyBnLJez8I_"
      },
      "execution_count": null,
      "outputs": []
    },
    {
      "cell_type": "code",
      "source": [
        "employee.head()"
      ],
      "metadata": {
        "id": "Vs3UjsX41FhQ"
      },
      "execution_count": null,
      "outputs": []
    },
    {
      "cell_type": "code",
      "source": [
        "vendor.head()"
      ],
      "metadata": {
        "id": "yafT_Jj601gL"
      },
      "execution_count": null,
      "outputs": []
    },
    {
      "cell_type": "code",
      "source": [
        "vendor.info()"
      ],
      "metadata": {
        "id": "OMkXX1To0Es_"
      },
      "execution_count": null,
      "outputs": []
    },
    {
      "cell_type": "code",
      "source": [
        "insurance_employee= employee.merge(insurance, how= 'outer', on= 'AGENT_ID')\n",
        "insurance_employee.head()"
      ],
      "metadata": {
        "id": "k7E8KnI-06_Y"
      },
      "execution_count": null,
      "outputs": []
    },
    {
      "cell_type": "code",
      "source": [
        "insurance_employee.rename(columns={'ADDRESS_LINE1_x': 'CUSTOMER_ADDRESS_LINE1', 'ADDRESS_LINE2_x': 'CUSTOMER_ADDRESS_LINE2',\n",
        "                                   'CITY_x': 'CUSTOMER_CITY', 'STATE_x': 'CUSTOMER_STATE', 'POSTAL_CODE_x': 'CUSTOMER_POSTAL_CODE',\n",
        "                                   'ADDRESS_LINE1_y': 'AGENT_ADDRESS_LINE1', 'ADDRESS_LINE2_y': 'AGENT_ADDRESS_LINE2',\n",
        "                                   'CITY_y': 'AGENT_CITY', 'STATE_y': 'AGENT_STATE', 'POSTAL_CODE_y': 'AGENT_POSTAL_CODE'},\n",
        "                          inplace=True)\n",
        "\n",
        "insurance_employee.columns.tolist()"
      ],
      "metadata": {
        "id": "2OOBgKjF1b-L"
      },
      "execution_count": null,
      "outputs": []
    },
    {
      "cell_type": "code",
      "source": [
        "df = insurance_employee.merge(vendor, how= 'left', on= 'VENDOR_ID')"
      ],
      "metadata": {
        "id": "PGlM2c2H1jYa"
      },
      "execution_count": null,
      "outputs": []
    },
    {
      "cell_type": "code",
      "source": [
        "df.dtypes"
      ],
      "metadata": {
        "id": "NsF6Jvuc7Xcj"
      },
      "execution_count": null,
      "outputs": []
    },
    {
      "cell_type": "code",
      "source": [
        "df.to_csv('Insurance.csv',index=False)"
      ],
      "metadata": {
        "id": "9TJ6BAQndYoT"
      },
      "execution_count": null,
      "outputs": []
    },
    {
      "cell_type": "code",
      "source": [
        "#checking null values in dataset\n",
        "df.isnull().sum()"
      ],
      "metadata": {
        "id": "PNSIHQ6ut25M"
      },
      "execution_count": null,
      "outputs": []
    },
    {
      "cell_type": "code",
      "source": [
        "#checking for duplicate rows\n",
        "df.duplicated().sum()"
      ],
      "metadata": {
        "id": "50pV8XhDwfI0"
      },
      "execution_count": null,
      "outputs": []
    },
    {
      "cell_type": "code",
      "source": [
        "#droping duplicates if any\n",
        "df.drop_duplicates()"
      ],
      "metadata": {
        "id": "I3ShrGAKwiGZ"
      },
      "execution_count": null,
      "outputs": []
    },
    {
      "cell_type": "code",
      "source": [
        "print(\"Size of Dataset: {} rows , {} columns\".format(df.shape[0],df.shape[1]))"
      ],
      "metadata": {
        "id": "ihWN4Vq27jhj"
      },
      "execution_count": null,
      "outputs": []
    },
    {
      "cell_type": "code",
      "source": [
        "df.rename(columns={'ADDRESS_LINE1': 'VENDOR_ADDRESS_LINE1', 'ADDRESS_LINE2': 'VENDOR_ADDRESS_LINE2',\n",
        "                     'CITY': 'VENDOR_CITY', 'STATE': 'VENDOR_STATE', 'POSTAL_CODE': 'VENDOR_POSTAL_CODE'},\n",
        "            inplace=True)\n",
        "\n",
        "df.columns.tolist()"
      ],
      "metadata": {
        "id": "u0U2wrSe2GvH"
      },
      "execution_count": null,
      "outputs": []
    },
    {
      "cell_type": "code",
      "source": [
        "df.head(10)"
      ],
      "metadata": {
        "id": "koY3wsIOwWm8"
      },
      "execution_count": null,
      "outputs": []
    },
    {
      "cell_type": "code",
      "source": [
        "df.info()"
      ],
      "metadata": {
        "id": "QqKRlOxX70mC"
      },
      "execution_count": null,
      "outputs": []
    },
    {
      "cell_type": "code",
      "source": [
        "#A means \"Approved\" and D means \"Denied\"\n",
        "df.CLAIM_STATUS.unique()\n"
      ],
      "metadata": {
        "id": "49N79Bxg4jAw"
      },
      "execution_count": null,
      "outputs": []
    },
    {
      "cell_type": "code",
      "source": [
        "df['INSURANCE_TYPE'].value_counts().sort_values()"
      ],
      "metadata": {
        "id": "cNAoft1s48Xr"
      },
      "execution_count": null,
      "outputs": []
    },
    {
      "cell_type": "code",
      "source": [
        "#to get top three values\n",
        "df['INSURANCE_TYPE'].value_counts().sort_values(ascending=False)[:3]"
      ],
      "metadata": {
        "id": "DejFs6nS5PFd"
      },
      "execution_count": null,
      "outputs": []
    },
    {
      "cell_type": "code",
      "source": [
        "df['CLAIM_STATUS'].value_counts()"
      ],
      "metadata": {
        "id": "Lg6iysQZ7E7o"
      },
      "execution_count": null,
      "outputs": []
    },
    {
      "cell_type": "code",
      "source": [
        "df.RISK_SEGMENTATION.unique()"
      ],
      "metadata": {
        "id": "q5emG3Fe5ULw"
      },
      "execution_count": null,
      "outputs": []
    },
    {
      "cell_type": "code",
      "source": [
        "#dropping unnecessary columns\n",
        "df=df.drop(['AGENT_NAME','AGENT_ID', 'TRANSACTION_ID', 'EMP_ROUTING_NUMBER', 'CUSTOMER_NAME','DATE_OF_JOINING',\n",
        "            'ACCT_NUMBER', 'TXN_DATE_TIME','EMP_ACCT_NUMBER','POLICY_NUMBER', 'POLICY_EFF_DT', 'LOSS_DT', 'REPORT_DT',\n",
        "            'VENDOR_NAME','CUSTOMER_ID',\"CUSTOMER_ADDRESS_LINE1\",\"CUSTOMER_ADDRESS_LINE2\",\"CUSTOMER_CITY\",\n",
        "            \"CUSTOMER_STATE\", 'VENDOR_ID',\"CUSTOMER_POSTAL_CODE\",\"AGENT_ADDRESS_LINE1\",\"AGENT_ADDRESS_LINE2\",\n",
        "            \"AGENT_CITY\",\"AGENT_STATE\",\"AGENT_POSTAL_CODE\", \"INCIDENT_STATE\",\"INCIDENT_CITY\",\"VENDOR_ADDRESS_LINE1\",\n",
        "            'ROUTING_NUMBER', 'SSN',\"VENDOR_ADDRESS_LINE2\",\"VENDOR_CITY\",\"VENDOR_STATE\",\"VENDOR_POSTAL_CODE\"],axis=1)\n"
      ],
      "metadata": {
        "id": "ivg6pldd1BOv"
      },
      "execution_count": null,
      "outputs": []
    },
    {
      "cell_type": "code",
      "source": [
        "df.nunique()"
      ],
      "metadata": {
        "id": "HgzdhQv55SXQ"
      },
      "execution_count": null,
      "outputs": []
    },
    {
      "cell_type": "code",
      "source": [
        "#histogram\n",
        "df[\"RISK_SEGMENTATION\"].hist(bins=40,figsize=(5,5))\n",
        "plt.show()"
      ],
      "metadata": {
        "id": "nJ0PJMGD3CwF"
      },
      "execution_count": null,
      "outputs": []
    },
    {
      "cell_type": "code",
      "source": [
        "df.corr()"
      ],
      "metadata": {
        "id": "bvmCNDNW5nuz"
      },
      "execution_count": null,
      "outputs": []
    },
    {
      "cell_type": "code",
      "source": [
        "#correlation heatmap\n",
        "plt.figure(figsize=(15,10))\n",
        "sns.heatmap(df.corr(),annot=True)"
      ],
      "metadata": {
        "id": "nTJQNHqvnTJU"
      },
      "execution_count": null,
      "outputs": []
    },
    {
      "cell_type": "code",
      "source": [
        "#checking for missing values\n",
        "\n",
        "def missing (df):\n",
        "    missing_number = df.isnull().sum().sort_values(ascending=False)\n",
        "    missing_percent = (df.isnull().sum()/df.isnull().count()).sort_values(ascending=False)\n",
        "    missing_values = pd.concat([missing_number, missing_percent], axis=1, keys=['Missing_Number', 'Missing_Percent'])\n",
        "    return missing_values\n",
        "\n",
        "missing(df)"
      ],
      "metadata": {
        "id": "vYzHaDja8Btj"
      },
      "execution_count": null,
      "outputs": []
    },
    {
      "cell_type": "code",
      "source": [
        "#Suspicious_df = df[(df['CLAIM_STATUS'] == 'A') & (df['RISK_SEGMENTATION'] == 'H') & (df['INCIDENT_SEVERITY'] == 'Major Loss')]\n",
        "#Suspicious_df.describe()"
      ],
      "metadata": {
        "id": "JiHOeQsl6f6r"
      },
      "execution_count": null,
      "outputs": []
    },
    {
      "cell_type": "code",
      "source": [
        "df.nunique()"
      ],
      "metadata": {
        "id": "hsbHrXmLv1JG"
      },
      "execution_count": null,
      "outputs": []
    },
    {
      "cell_type": "code",
      "source": [
        "#the rows with null values are droped\n",
        "#df.dropna(axis=0,inplace=True)"
      ],
      "metadata": {
        "id": "5Dv5BToG8jRG"
      },
      "execution_count": null,
      "outputs": []
    },
    {
      "cell_type": "code",
      "source": [
        "df.info()"
      ],
      "metadata": {
        "id": "4q7q8OO088bK"
      },
      "execution_count": null,
      "outputs": []
    },
    {
      "cell_type": "code",
      "source": [
        "df.columns"
      ],
      "metadata": {
        "id": "C95MnHANOI1z"
      },
      "execution_count": null,
      "outputs": []
    },
    {
      "cell_type": "code",
      "source": [
        "new_cols = [ 'INSURANCE_TYPE', 'PREMIUM_AMOUNT', 'CLAIM_AMOUNT', 'MARITAL_STATUS', 'AGE', 'TENURE', 'EMPLOYMENT_STATUS','NO_OF_FAMILY_MEMBERS', 'RISK_SEGMENTATION', 'HOUSE_TYPE','SOCIAL_CLASS', 'CUSTOMER_EDUCATION_LEVEL', 'INCIDENT_SEVERITY','AUTHORITY_CONTACTED', 'ANY_INJURY', 'POLICE_REPORT_AVAILABLE','INCIDENT_HOUR_OF_THE_DAY','CLAIM_STATUS']\n",
        "df=df.reindex(columns=new_cols)\n",
        "df.info()"
      ],
      "metadata": {
        "id": "Wd52aN01N9aq"
      },
      "execution_count": null,
      "outputs": []
    },
    {
      "cell_type": "code",
      "source": [
        "df.groupby([\"RISK_SEGMENTATION\", \"CLAIM_STATUS\"]).size()"
      ],
      "metadata": {
        "id": "t3q3Cj5Zwh4d"
      },
      "execution_count": null,
      "outputs": []
    },
    {
      "cell_type": "code",
      "source": [
        "df"
      ],
      "metadata": {
        "id": "C-uH74dBgLNI"
      },
      "execution_count": null,
      "outputs": []
    },
    {
      "cell_type": "code",
      "source": [
        "df.nunique()"
      ],
      "metadata": {
        "id": "SSWmj3dCg0in"
      },
      "execution_count": null,
      "outputs": []
    },
    {
      "cell_type": "code",
      "source": [
        "#df=pd.get_dummies(df)\n",
        "#df.info()\n",
        "  #<class 'pandas.core.frame.DataFrame'>\n",
        "  #Int64Index: 10000 entries, 0 to 9999\n",
        "  #Columns: 58374 entries, EMP_ROUTING_NUMBER to CLAIM_STATUS_D\n",
        "  #dtypes: float64(1), int64(9), uint8(58364)\n",
        "  #memory usage: 557.4 MB"
      ],
      "metadata": {
        "id": "NfIYoc7PUbJe"
      },
      "execution_count": null,
      "outputs": []
    },
    {
      "cell_type": "code",
      "source": [
        "#x-independent features y-dependent features\n",
        "x=df.iloc[:,:-1]\n",
        "y=df.iloc[:,-1].values"
      ],
      "metadata": {
        "id": "kELRxzuNHfXR"
      },
      "execution_count": null,
      "outputs": []
    },
    {
      "cell_type": "code",
      "source": [
        "x"
      ],
      "metadata": {
        "id": "wuxntaPgOBeW"
      },
      "execution_count": null,
      "outputs": []
    },
    {
      "cell_type": "code",
      "source": [
        "x=pd.get_dummies(x)\n"
      ],
      "metadata": {
        "id": "RP2kgWvKluuP"
      },
      "execution_count": null,
      "outputs": []
    },
    {
      "cell_type": "code",
      "source": [
        "x"
      ],
      "metadata": {
        "id": "lvLA-7lMl4aA"
      },
      "execution_count": null,
      "outputs": []
    },
    {
      "cell_type": "code",
      "source": [
        "x.shape"
      ],
      "metadata": {
        "id": "APdHfbNFl72a"
      },
      "execution_count": null,
      "outputs": []
    },
    {
      "cell_type": "code",
      "source": [
        "x.info()"
      ],
      "metadata": {
        "id": "NuClHVFXl_DE"
      },
      "execution_count": null,
      "outputs": []
    },
    {
      "cell_type": "code",
      "source": [
        "#x=x.drop(['MARITAL_STATUS_N','EMPLOYMENT_STATUS_Y'],axis=1)\n"
      ],
      "metadata": {
        "id": "3HDEf9HUmIKf"
      },
      "execution_count": null,
      "outputs": []
    },
    {
      "cell_type": "code",
      "source": [
        "x=x.values\n",
        "x"
      ],
      "metadata": {
        "id": "lBO_gZBtm1Z0"
      },
      "execution_count": null,
      "outputs": []
    },
    {
      "cell_type": "code",
      "source": [
        "y"
      ],
      "metadata": {
        "id": "LrQMf8sVO5aJ"
      },
      "execution_count": null,
      "outputs": []
    },
    {
      "cell_type": "code",
      "source": [
        "plt.hist(y)\n",
        "plt.show()"
      ],
      "metadata": {
        "id": "_TigPIDXO7YL"
      },
      "execution_count": null,
      "outputs": []
    },
    {
      "cell_type": "code",
      "source": [
        "#LabelEncoder\n",
        "from sklearn.preprocessing import LabelEncoder\n",
        "le=LabelEncoder()\n",
        "y=le.fit_transform(y)"
      ],
      "metadata": {
        "id": "SERSWbBmPQbC"
      },
      "execution_count": null,
      "outputs": []
    },
    {
      "cell_type": "code",
      "source": [
        "y"
      ],
      "metadata": {
        "id": "49K--TT-Pmcm"
      },
      "execution_count": null,
      "outputs": []
    },
    {
      "cell_type": "code",
      "source": [
        "from imblearn.over_sampling import SMOTE\n",
        "oversample = SMOTE()\n"
      ],
      "metadata": {
        "id": "UM5KrGUPRl2_"
      },
      "execution_count": null,
      "outputs": []
    },
    {
      "cell_type": "markdown",
      "source": [],
      "metadata": {
        "id": "EawSckFBlF_8"
      }
    },
    {
      "cell_type": "code",
      "source": [
        "#x,y=oversampling.fit_resample(x,y)\n",
        "df['CLAIM_STATUS'].value_counts()"
      ],
      "metadata": {
        "id": "KlCP71AXRnJ1"
      },
      "execution_count": null,
      "outputs": []
    },
    {
      "cell_type": "code",
      "source": [
        "from sklearn.model_selection import train_test_split\n",
        "#x_train,x_test,y_train,y_test=train_test_split(x,y,stratify=y,train_size=0.8,random_state=0)"
      ],
      "metadata": {
        "id": "cJt-rGT3PnVa"
      },
      "execution_count": null,
      "outputs": []
    },
    {
      "cell_type": "code",
      "source": [
        "x_train, x_test, y_train, y_test = train_test_split(x, y,test_size=0.3, random_state=0, shuffle=True, stratify=y)"
      ],
      "metadata": {
        "id": "0wnNMRQPP6oN"
      },
      "execution_count": null,
      "outputs": []
    },
    {
      "cell_type": "code",
      "source": [
        "from imblearn.over_sampling import SMOTE\n",
        "oversample = SMOTE(random_state=0)\n",
        "x_train_smote, y_train_smote = oversample.fit_resample(x_train, y_train)"
      ],
      "metadata": {
        "id": "MA3VDqM2XDLZ"
      },
      "execution_count": null,
      "outputs": []
    },
    {
      "cell_type": "code",
      "source": [
        "x_train_smote"
      ],
      "metadata": {
        "id": "mkuHbNS6XJyO"
      },
      "execution_count": null,
      "outputs": []
    },
    {
      "cell_type": "code",
      "source": [
        "y_train=y_train_smote"
      ],
      "metadata": {
        "id": "mTeLwo7HoBup"
      },
      "execution_count": null,
      "outputs": []
    },
    {
      "cell_type": "code",
      "source": [
        "from sklearn.preprocessing import StandardScaler\n",
        "sc = StandardScaler()\n",
        "x_train = sc.fit_transform(x_train_smote)\n",
        "x_test = sc.transform(x_test) \n",
        "print(x_train) \n",
        "print(x_test) \n"
      ],
      "metadata": {
        "id": "KZID5TjNLckm"
      },
      "execution_count": null,
      "outputs": []
    },
    {
      "cell_type": "code",
      "source": [
        "x_train.shape"
      ],
      "metadata": {
        "id": "jF27AuxQRdtk"
      },
      "execution_count": null,
      "outputs": []
    },
    {
      "cell_type": "code",
      "source": [
        "y_train.shape"
      ],
      "metadata": {
        "id": "DBgBkHIVRYBV"
      },
      "execution_count": null,
      "outputs": []
    },
    {
      "cell_type": "code",
      "source": [
        "plt.hist([\"x_train_smote\",\"y_train_smote\"])\n",
        "plt.show()"
      ],
      "metadata": {
        "id": "gt8Ozkfv9S9A"
      },
      "execution_count": null,
      "outputs": []
    },
    {
      "cell_type": "code",
      "source": [
        "from sklearn.model_selection import cross_val_score, KFold\n",
        "cv=KFold(n_splits=5,random_state=0,shuffle=True)"
      ],
      "metadata": {
        "id": "KUyPbTkpBSAC"
      },
      "execution_count": null,
      "outputs": []
    },
    {
      "cell_type": "code",
      "source": [
        "# LogisticRegression\n",
        "from sklearn.linear_model import LogisticRegression\n",
        "lrModel = LogisticRegression()\n",
        "lrModel.fit(x_train,y_train_smote)\n",
        "scores = cross_val_score(lrModel, x_train, y_train, cv = cv,scoring='accuracy')\n",
        "print(\"Logistics Regression Average CV Score: \",scores.mean())\n",
        "#y_pred = lrModel.predict(x_test)\n"
      ],
      "metadata": {
        "id": "LimBKbYIBySi"
      },
      "execution_count": null,
      "outputs": []
    },
    {
      "cell_type": "code",
      "source": [
        "# KNeighborsClassifier\n",
        "from sklearn.neighbors import KNeighborsClassifier\n",
        "KnModel = KNeighborsClassifier()\n",
        "scores = cross_val_score(KnModel, x_train, y_train, cv = cv,scoring='accuracy')\n",
        "print(\"KNeighbors Average CV Score: \",scores.mean())"
      ],
      "metadata": {
        "id": "chCJEr-DCD1z"
      },
      "execution_count": null,
      "outputs": []
    },
    {
      "cell_type": "code",
      "source": [
        "# RandomForestClassifier\n",
        "from sklearn.ensemble import RandomForestClassifier\n",
        "RfModel = RandomForestClassifier()\n",
        "scores = cross_val_score(RfModel, x_train, y_train, cv = cv,scoring='accuracy')\n",
        "print(\"Random Forest Average CV Score: \",scores.mean())"
      ],
      "metadata": {
        "id": "K-Ho8xr8EunB"
      },
      "execution_count": null,
      "outputs": []
    },
    {
      "cell_type": "code",
      "source": [
        "# DecisionTreeClassifier\n",
        "from sklearn.tree import DecisionTreeClassifier\n",
        "DtModel = DecisionTreeClassifier()\n",
        "scores = cross_val_score(DtModel, x_train, y_train, cv = cv,scoring='accuracy')\n",
        "print(\"Decision Tree Average CV Score: \",scores.mean())"
      ],
      "metadata": {
        "id": "x3QZ3puTEuvg"
      },
      "execution_count": null,
      "outputs": []
    },
    {
      "cell_type": "code",
      "source": [
        "# SVC\n",
        "from sklearn.svm import SVC\n",
        "SvmModel = SVC()\n",
        "scores = cross_val_score(SvmModel, x_train, y_train, cv = cv,scoring='accuracy')\n",
        "print(\"Support Vector Machine Average CV Score: \",scores.mean())"
      ],
      "metadata": {
        "id": "PLkW3VygEu7n"
      },
      "execution_count": null,
      "outputs": []
    },
    {
      "cell_type": "code",
      "source": [
        "# xgb\n",
        "import xgboost as xgb\n",
        "XgbModel = xgb.XGBClassifier()\n",
        "scores = cross_val_score(XgbModel, x_train, y_train, cv = cv,scoring='accuracy')\n",
        "print(\"XGBoost Average CV Score: \",scores.mean())"
      ],
      "metadata": {
        "id": "DcuN2g-KEvGP"
      },
      "execution_count": null,
      "outputs": []
    },
    {
      "cell_type": "code",
      "source": [
        "# BaggingClassifier\n",
        "from sklearn.ensemble import BaggingClassifier\n",
        "BcModel = BaggingClassifier()\n",
        "scores = cross_val_score(BcModel, x_train, y_train, cv = cv,scoring='accuracy')\n",
        "print(\"Bagging Classifier Average CV Score: \",scores.mean())"
      ],
      "metadata": {
        "id": "PoC9_KMCEvRd"
      },
      "execution_count": null,
      "outputs": []
    },
    {
      "cell_type": "code",
      "source": [
        "# AdaBoostClassifier\n",
        "from sklearn.ensemble import AdaBoostClassifier\n",
        "AdbModel = AdaBoostClassifier()\n",
        "scores = cross_val_score(AdbModel, x_train, y_train, cv = cv,scoring='accuracy')\n",
        "print(\"AdaBoost Tree Average CV Score: \",scores.mean())"
      ],
      "metadata": {
        "id": "YfoG4gV3Evcr"
      },
      "execution_count": null,
      "outputs": []
    },
    {
      "cell_type": "code",
      "source": [
        "# Create an Isolation Forest classifier\n",
        "from sklearn.ensemble import IsolationForest\n",
        "IslModel= IsolationForest()"
      ],
      "metadata": {
        "id": "XkMhyw26JyNM"
      },
      "execution_count": null,
      "outputs": []
    },
    {
      "cell_type": "code",
      "source": [
        "# Create an Isolation Forest classifier\n",
        "IslModel= IsolationForest()\n",
        "scores = cross_val_score(IslModel, x_train, y_train, cv = cv,scoring='accuracy')\n",
        "print(\"Isolation Forest Average CV Score: \",scores.mean())"
      ],
      "metadata": {
        "id": "OkrW3Xy4JSsG"
      },
      "execution_count": null,
      "outputs": []
    },
    {
      "cell_type": "code",
      "source": [
        "from sklearn.feature_selection import SelectKBest, f_classif\n",
        "# Select the top 15 features using ANOVA\n",
        "selector = SelectKBest(f_classif, k=15)\n",
        "X_new = selector.fit_transform(x, y)\n",
        "x=X_new\n",
        "# Print the scores and p-values for each feature\n",
        "scores = selector.scores_\n",
        "pvalues = selector.pvalues_\n",
        "for i in range(len(scores)):\n",
        "    print(f\"Feature {i+1}: score = {scores[i]:.2f}, p-value = {pvalues[i]:.2f}\")\n",
        "# Print the indices of the selected features\n",
        "selected_indices = selector.get_support(indices=True)\n",
        "print(f\"Selected feature indices: {selected_indices}\")"
      ],
      "metadata": {
        "id": "8f8lB6nSGIUu"
      },
      "execution_count": null,
      "outputs": []
    },
    {
      "cell_type": "markdown",
      "source": [
        "**AFTER** **ANOVA**"
      ],
      "metadata": {
        "id": "0TiHEVLrGpw7"
      }
    },
    {
      "cell_type": "code",
      "source": [
        "from sklearn.metrics import confusion_matrix, classification_report, accuracy_score, f1_score, precision_score, recall_score"
      ],
      "metadata": {
        "id": "-UATmnPeXfLA"
      },
      "execution_count": null,
      "outputs": []
    },
    {
      "cell_type": "code",
      "source": [
        "lrModel = LogisticRegression()\n",
        "lrModel.fit(x_train,y_train_smote)\n",
        "scores = cross_val_score(lrModel, x_train, y_train, cv = cv,scoring='accuracy')\n",
        "print(\"Logistics Regression Average CV Score: \",scores.mean())\n",
        "y_pred = lrModel.predict(x_test)\n",
        "cm = confusion_matrix(y_test, y_pred)\n",
        "plt.figure(figsize=(2,2))\n",
        "sns.heatmap(cm, annot=True, linewidths=1, square = True, cmap = 'Blues_r')\n",
        "plt.show()\n",
        "print(\"\\nAccuracy after smote : \",accuracy_score(y_test,y_pred))\n",
        "print(\"\\nF1 score after smote : \",f1_score(y_test,y_pred))"
      ],
      "metadata": {
        "id": "8_cjMsLJGjA2"
      },
      "execution_count": null,
      "outputs": []
    },
    {
      "cell_type": "code",
      "source": [
        "from sklearn.neighbors import KNeighborsClassifier\n",
        "KnModel = KNeighborsClassifier()\n",
        "scores = cross_val_score(KnModel, x_train, y_train, cv = cv,scoring='accuracy')\n",
        "print(\"KNeighbors Average CV Score: \",scores.mean())"
      ],
      "metadata": {
        "id": "yHxdU46JGi9i"
      },
      "execution_count": null,
      "outputs": []
    },
    {
      "cell_type": "code",
      "source": [
        "from sklearn.ensemble import RandomForestClassifier\n",
        "RfModel = RandomForestClassifier()\n",
        "scores = cross_val_score(RfModel, x_train, y_train, cv = cv,scoring='accuracy')\n",
        "print(\"Random Forest Average CV Score: \",scores.mean())"
      ],
      "metadata": {
        "id": "CE7acej-Gi6a"
      },
      "execution_count": null,
      "outputs": []
    },
    {
      "cell_type": "code",
      "source": [
        "from sklearn.tree import DecisionTreeClassifier\n",
        "DtModel = DecisionTreeClassifier()\n",
        "scores = cross_val_score(DtModel, x_train, y_train, cv = cv,scoring='accuracy')\n",
        "print(\"Decision Tree Average CV Score: \",scores.mean())"
      ],
      "metadata": {
        "id": "uAQXvxxAGi3j"
      },
      "execution_count": null,
      "outputs": []
    },
    {
      "cell_type": "code",
      "source": [
        "from sklearn.svm import SVC\n",
        "SvmModel = SVC()\n",
        "scores = cross_val_score(SvmModel, x_train, y_train, cv = cv,scoring='accuracy')\n",
        "print(\"Support Vector Machine Average CV Score: \",scores.mean())"
      ],
      "metadata": {
        "id": "sBJjfHOBGi08"
      },
      "execution_count": null,
      "outputs": []
    },
    {
      "cell_type": "code",
      "source": [
        "import xgboost as xgb\n",
        "XgbModel = xgb.XGBClassifier()\n",
        "scores = cross_val_score(XgbModel, x_train, y_train, cv = cv,scoring='accuracy')\n",
        "print(\"XGBoost Average CV Score: \",scores.mean())"
      ],
      "metadata": {
        "id": "wwIUeTDEGiyr"
      },
      "execution_count": null,
      "outputs": []
    },
    {
      "cell_type": "code",
      "source": [
        "from sklearn.ensemble import BaggingClassifier\n",
        "BcModel = BaggingClassifier()\n",
        "scores = cross_val_score(BcModel, x_train, y_train, cv = cv,scoring='accuracy')\n",
        "print(\"Bagging Classifier Average CV Score: \",scores.mean())"
      ],
      "metadata": {
        "id": "2Z-pbUqMGivj"
      },
      "execution_count": null,
      "outputs": []
    },
    {
      "cell_type": "code",
      "source": [
        "from sklearn.ensemble import AdaBoostClassifier\n",
        "AdbModel = AdaBoostClassifier()\n",
        "scores = cross_val_score(AdbModel, x_train, y_train, cv = cv,scoring='accuracy')\n",
        "print(\"AdaBoost Tree Average CV Score: \",scores.mean())"
      ],
      "metadata": {
        "id": "Mz1bFWsQGis4"
      },
      "execution_count": null,
      "outputs": []
    },
    {
      "cell_type": "code",
      "source": [
        "# Create an Isolation Forest classifier\n",
        "IslModel= IsolationForest()\n",
        "scores = cross_val_score(IslModel, x_train, y_train, cv = cv,scoring='accuracy')\n",
        "print(\"Isolation Forest Average CV Score: \",scores.mean())"
      ],
      "metadata": {
        "id": "vJJVmdvpGiqR"
      },
      "execution_count": null,
      "outputs": []
    },
    {
      "cell_type": "code",
      "source": [
        "KnModel.fit(x_train,y_train)\n",
        "prediction = KnModel.predict(x_test)\n",
        "print(\"The Accuracy Score on test data:\", accuracy_score(prediction,y_test))\n",
        "print(\"The precision Score :\", precision_score(prediction,y_test))\n",
        "print(\"The recall Score :\", recall_score(prediction,y_test))\n",
        "print(\"The f1 score :\", f1_score(prediction,y_test))\n",
        "print(\"The Classification report : \\n\",classification_report(prediction,y_test))\n",
        "sns.heatmap(confusion_matrix(prediction,y_test), annot = True)\n",
        "plt.show()"
      ],
      "metadata": {
        "id": "LXdnBhwMGhob"
      },
      "execution_count": null,
      "outputs": []
    },
    {
      "cell_type": "code",
      "source": [
        "RfModel.fit(x_train,y_train)\n",
        "prediction = RfModel.predict(x_test)\n",
        "print(\"The Accuracy Score on test data:\", accuracy_score(prediction,y_test))\n",
        "print(\"The precision Score :\", precision_score(prediction,y_test))\n",
        "print(\"The recall Score :\", recall_score(prediction,y_test))\n",
        "print(\"The f1 score :\", f1_score(prediction,y_test))\n",
        "print(\"The Classification report : \\n\",classification_report(prediction,y_test))\n",
        "sns.heatmap(confusion_matrix(prediction,y_test), annot = True)\n",
        "plt.show()"
      ],
      "metadata": {
        "id": "Z884fVIhMQQ6"
      },
      "execution_count": null,
      "outputs": []
    },
    {
      "cell_type": "code",
      "source": [
        "DtModel.fit(x_train,y_train)\n",
        "prediction = DtModel.predict(x_test)\n",
        "print(\"The Accuracy Score on test data:\", accuracy_score(prediction,y_test))\n",
        "print(\"The precision Score :\", precision_score(prediction,y_test))\n",
        "print(\"The recall Score :\", recall_score(prediction,y_test))\n",
        "print(\"The f1 score :\", f1_score(prediction,y_test))\n",
        "print(\"The Classification report : \\n\",classification_report(prediction,y_test))\n",
        "sns.heatmap(confusion_matrix(prediction,y_test), annot = True)\n",
        "plt.show()"
      ],
      "metadata": {
        "id": "iKuA51DKMDkE"
      },
      "execution_count": null,
      "outputs": []
    },
    {
      "cell_type": "code",
      "source": [
        "lrModel.fit(x_train,y_train)\n",
        "prediction = lrModel.predict(x_test)\n",
        "print(\"The Accuracy Score on test data:\", accuracy_score(prediction,y_test))\n",
        "print(\"The precision Score :\", precision_score(prediction,y_test))\n",
        "print(\"The recall Score :\", recall_score(prediction,y_test))\n",
        "print(\"The f1 score :\", f1_score(prediction,y_test))\n",
        "print(\"The Classification report : \\n\",classification_report(prediction,y_test))\n",
        "sns.heatmap(confusion_matrix(prediction,y_test), annot = True)\n",
        "plt.show()"
      ],
      "metadata": {
        "id": "h0jo9L-2Od4c"
      },
      "execution_count": null,
      "outputs": []
    },
    {
      "cell_type": "code",
      "source": [
        "SvmModel.fit(x_train,y_train)\n",
        "prediction = SvmModel.predict(x_test)\n",
        "print(\"The Accuracy Score on test data:\", accuracy_score(prediction,y_test))\n",
        "print(\"The precision Score :\", precision_score(prediction,y_test))\n",
        "print(\"The recall Score :\", recall_score(prediction,y_test))\n",
        "print(\"The f1 score :\", f1_score(prediction,y_test))\n",
        "print(\"The Classification report : \\n\",classification_report(prediction,y_test))\n",
        "sns.heatmap(confusion_matrix(prediction,y_test), annot = True)\n",
        "plt.show()"
      ],
      "metadata": {
        "id": "vEY36YE8OvBJ"
      },
      "execution_count": null,
      "outputs": []
    },
    {
      "cell_type": "code",
      "source": [
        "XgbModel.fit(x_train,y_train)\n",
        "prediction = XgbModel.predict(x_test)\n",
        "print(\"The Accuracy Score on test data:\", accuracy_score(prediction,y_test))\n",
        "print(\"The precision Score :\", precision_score(prediction,y_test))\n",
        "print(\"The recall Score :\", recall_score(prediction,y_test))\n",
        "print(\"The f1 score :\", f1_score(prediction,y_test))\n",
        "print(\"The Classification report : \\n\",classification_report(prediction,y_test))\n",
        "sns.heatmap(confusion_matrix(prediction,y_test), annot = True)\n",
        "plt.show()"
      ],
      "metadata": {
        "id": "-toDZRqJO9wt"
      },
      "execution_count": null,
      "outputs": []
    },
    {
      "cell_type": "code",
      "source": [
        "BcModel.fit(x_train,y_train)\n",
        "prediction = BcModel.predict(x_test)\n",
        "print(\"The Accuracy Score on test data:\", accuracy_score(prediction,y_test))\n",
        "print(\"The precision Score :\", precision_score(prediction,y_test))\n",
        "print(\"The recall Score :\", recall_score(prediction,y_test))\n",
        "print(\"The f1 score :\", f1_score(prediction,y_test))\n",
        "print(\"The Classification report : \\n\",classification_report(prediction,y_test))\n",
        "sns.heatmap(confusion_matrix(prediction,y_test), annot = True)\n",
        "plt.show()"
      ],
      "metadata": {
        "id": "m87rQfygPEkr"
      },
      "execution_count": null,
      "outputs": []
    },
    {
      "cell_type": "code",
      "source": [
        "AdbModel.fit(x_train,y_train)\n",
        "prediction = AdbModel.predict(x_test)\n",
        "print(\"The Accuracy Score on test data:\", accuracy_score(prediction,y_test))\n",
        "print(\"The precision Score :\", precision_score(prediction,y_test))\n",
        "print(\"The recall Score :\", recall_score(prediction,y_test))\n",
        "print(\"The f1 score :\", f1_score(prediction,y_test))\n",
        "print(\"The Classification report : \\n\",classification_report(prediction,y_test))\n",
        "sns.heatmap(confusion_matrix(prediction,y_test), annot = True)\n",
        "plt.show()"
      ],
      "metadata": {
        "id": "JJ_NkvKHPNJa"
      },
      "execution_count": null,
      "outputs": []
    },
    {
      "cell_type": "code",
      "source": [
        "IslModel.fit(x_train,y_train)\n",
        "prediction = IslModel.predict(x_test)\n",
        "print(\"The Accuracy Score on test data:\", accuracy_score(prediction,y_test))\n",
        "print(\"The Precision Score : \",precision_score(prediction,y_test,average='micro'))\n",
        "print(\"The Recall Score : \",recall_score(prediction,y_test,average='micro'))\n",
        "print(\"The f1 score :\", f1_score(prediction,y_test,average='micro'))\n",
        "print(\"The Classification report : \\n\",classification_report(prediction,y_test))\n",
        "sns.heatmap(confusion_matrix(prediction,y_test), annot = True)\n",
        "plt.show()"
      ],
      "metadata": {
        "id": "KYdId65qPX2o"
      },
      "execution_count": null,
      "outputs": []
    },
    {
      "cell_type": "code",
      "source": [
        "svc1=SVC(kernel=\"rbf\",C=100,gamma=0.001,random_state=0)\n",
        "svc1.fit(x_train,y_train)\n",
        "y_pred_svc1 = svc1.predict(x_test)\n",
        "from sklearn import metrics \n",
        "cm_svc1=metrics.confusion_matrix(y_pred_svc1,y_test)\n",
        "plt.figure(figsize=(2,2))\n",
        "sns.heatmap(cm_svc1, annot=True, linewidths=1, square = True, cmap = 'Blues_r')\n",
        "plt.show()\n",
        "print(\"\\nAccuracy after smote : \",accuracy_score(y_pred_svc1,y_test))\n",
        "print(\"\\nF1 score after smote : \",f1_score(y_pred_svc1,y_test))"
      ],
      "metadata": {
        "id": "67D4-iySgPBM"
      },
      "execution_count": null,
      "outputs": []
    },
    {
      "cell_type": "code",
      "source": [
        "from sklearn.model_selection import GridSearchCV\n",
        "\n",
        "# define the AdaBoost classifier\n",
        "adaboost = AdaBoostClassifier()\n",
        "\n",
        "# define the hyperparameters to tune\n",
        "param_grid = {\n",
        "    'n_estimators': [50, 100, 150, 200],\n",
        "    'learning_rate': [0.1, 0.5, 1.0, 2.0]\n",
        "}\n",
        "\n",
        "# define the GridSearchCV object\n",
        "grid_search = GridSearchCV(adaboost, param_grid, cv=5)\n",
        "\n",
        "# fit the GridSearchCV object to the data\n",
        "grid_search.fit(x_train,y_train)\n",
        "\n",
        "# print the best hyperparameters and the corresponding score\n",
        "print(\"Best parameters: \", grid_search.best_params_)\n",
        "print(\"Best score: \", grid_search.best_score_)"
      ],
      "metadata": {
        "id": "FaijrHHIjXF_"
      },
      "execution_count": null,
      "outputs": []
    },
    {
      "cell_type": "markdown",
      "source": [
        "bagging = BaggingClassifier()\n",
        "\n",
        "# define the hyperparameters to tune\n",
        "param_grid = {\n",
        "    'n_estimators': [50, 100, 150, 200]\n",
        "    ,'max_samples': [0.5, 0.7, 0.9, 1.0]\n",
        "  #  ,'max_features': [0.5, 0.7, 0.9, 1.0]\n",
        "}\n",
        "\n",
        "# define the GridSearchCV object\n",
        "grid_search = GridSearchCV(bagging, param_grid, cv=5)\n",
        "\n",
        "# fit the GridSearchCV object to the data\n",
        "grid_search.fit(x_train,y_train)\n",
        "\n",
        "# print the best hyperparameters and the corresponding score\n",
        "print(\"Best parameters: \", grid_search.best_params_)\n",
        "print(\"Best score: \", grid_search.best_score_)\n"
      ],
      "metadata": {
        "id": "UdpkEUinfem0"
      }
    },
    {
      "cell_type": "code",
      "source": [],
      "metadata": {
        "id": "MwBkAiWjfmEH"
      },
      "execution_count": null,
      "outputs": []
    }
  ]
}